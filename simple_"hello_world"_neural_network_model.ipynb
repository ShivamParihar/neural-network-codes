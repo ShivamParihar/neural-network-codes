{
  "nbformat": 4,
  "nbformat_minor": 0,
  "metadata": {
    "colab": {
      "name": "simple \"hello world\" neural network model.ipynb",
      "provenance": [],
      "collapsed_sections": [],
      "include_colab_link": true
    },
    "kernelspec": {
      "name": "python3",
      "display_name": "Python 3"
    }
  },
  "cells": [
    {
      "cell_type": "markdown",
      "metadata": {
        "id": "view-in-github",
        "colab_type": "text"
      },
      "source": [
        "<a href=\"https://colab.research.google.com/github/ShivamParihar/neural-network-codes/blob/master/simple_%22hello_world%22_neural_network_model.ipynb\" target=\"_parent\"><img src=\"https://colab.research.google.com/assets/colab-badge.svg\" alt=\"Open In Colab\"/></a>"
      ]
    },
    {
      "cell_type": "markdown",
      "metadata": {
        "id": "tR07EETLy3cX",
        "colab_type": "text"
      },
      "source": [
        "# **Simple neural network program**\n",
        "\n",
        "```\n",
        "X = [-1.0, 0.0, 1.0, 2.0, 3.0, 4.0]\n",
        "y = [-3.0, -1.0, 1.0, 3.0, 5.0, 7.0]\n",
        "```\n",
        "Here y = 2*X - 1\n",
        "\n",
        "We created the model to find out the formula with just single neuron and single hidden layer. \n",
        "\n",
        "\n"
      ]
    },
    {
      "cell_type": "markdown",
      "metadata": {
        "id": "bOAvuXRY1tDu",
        "colab_type": "text"
      },
      "source": [
        "## **Imports**"
      ]
    },
    {
      "cell_type": "code",
      "metadata": {
        "id": "IsPVT0HMw6H3",
        "colab_type": "code",
        "colab": {}
      },
      "source": [
        "!pip install tensorflow==2.0.0"
      ],
      "execution_count": 0,
      "outputs": []
    },
    {
      "cell_type": "code",
      "metadata": {
        "id": "7zeH_6svx5gf",
        "colab_type": "code",
        "colab": {}
      },
      "source": [
        "import tensorflow as tf\n",
        "import numpy as np"
      ],
      "execution_count": 0,
      "outputs": []
    },
    {
      "cell_type": "markdown",
      "metadata": {
        "id": "DwjmoZaX1wl6",
        "colab_type": "text"
      },
      "source": [
        "## **Define and Compile the Neural Network**"
      ]
    },
    {
      "cell_type": "code",
      "metadata": {
        "id": "jMCkqthGvs9N",
        "colab_type": "code",
        "colab": {}
      },
      "source": [
        "model = tf.keras.models.Sequential([tf.keras.layers.Dense(units = 1, input_shape = [1])])\n",
        "model.compile(optimizer = 'sgd', loss= 'mean_squared_error')"
      ],
      "execution_count": 0,
      "outputs": []
    },
    {
      "cell_type": "markdown",
      "metadata": {
        "id": "hh2yloYi120o",
        "colab_type": "text"
      },
      "source": [
        "## **Providing the Data**"
      ]
    },
    {
      "cell_type": "code",
      "metadata": {
        "id": "2Q-_C4KaxHGw",
        "colab_type": "code",
        "colab": {}
      },
      "source": [
        "X = np.array([-1.0, 0.0, 1.0, 2.0, 3.0, 4.0], dtype = float)\n",
        "y = np.array([-3.0, -1.0, 1.0, 3.0, 5.0, 7.0], dtype = float)"
      ],
      "execution_count": 0,
      "outputs": []
    },
    {
      "cell_type": "markdown",
      "metadata": {
        "id": "w4GO01W62HzI",
        "colab_type": "text"
      },
      "source": [
        "## **Training the Neural Network**"
      ]
    },
    {
      "cell_type": "code",
      "metadata": {
        "id": "hIrylZszyjDc",
        "colab_type": "code",
        "colab": {}
      },
      "source": [
        "model.fit(X, y, epochs = 500)"
      ],
      "execution_count": 0,
      "outputs": []
    },
    {
      "cell_type": "markdown",
      "metadata": {
        "id": "SoAB4nzZ2PAN",
        "colab_type": "text"
      },
      "source": [
        "## **Predicting the Result**"
      ]
    },
    {
      "cell_type": "code",
      "metadata": {
        "id": "uRn1CQUsytIq",
        "colab_type": "code",
        "colab": {
          "base_uri": "https://localhost:8080/",
          "height": 35
        },
        "outputId": "095a0fb2-fb0b-4d62-8baf-e5b9d89dd6c1"
      },
      "source": [
        "print(model.predict([10.0]))"
      ],
      "execution_count": 13,
      "outputs": [
        {
          "output_type": "stream",
          "text": [
            "[[18.985]]\n"
          ],
          "name": "stdout"
        }
      ]
    }
  ]
}